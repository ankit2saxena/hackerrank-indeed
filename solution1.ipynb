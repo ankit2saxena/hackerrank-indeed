{
 "cells": [
  {
   "cell_type": "code",
   "execution_count": 1,
   "metadata": {
    "collapsed": false
   },
   "outputs": [],
   "source": [
    "import numpy as np\n",
    "import pandas as pd\n",
    "import csv\n",
    "\n",
    "import regex as re\n",
    "\n",
    "import nltk\n",
    "from nltk import word_tokenize\n",
    "from nltk.corpus import stopwords\n",
    "from nltk.stem import SnowballStemmer\n",
    "\n",
    "from sklearn.feature_extraction.text import TfidfTransformer\n",
    "from sklearn.feature_extraction.text import TfidfVectorizer\n",
    "from sklearn.feature_extraction import DictVectorizer\n",
    "from sklearn.feature_extraction.text import CountVectorizer\n",
    "from sklearn.naive_bayes import MultinomialNB\n",
    "from sklearn.model_selection import GridSearchCV\n",
    "\n",
    "import xgboost as xgb"
   ]
  },
  {
   "cell_type": "code",
   "execution_count": 2,
   "metadata": {
    "collapsed": false
   },
   "outputs": [],
   "source": [
    "#read train.tsv using csv\n",
    "#with open('train.tsv') as train_data_file:\n",
    "#    for line in csv.reader(train_data_file, delimiter = \"\\t\"):\n",
    "#        print line"
   ]
  },
  {
   "cell_type": "code",
   "execution_count": 3,
   "metadata": {
    "collapsed": false
   },
   "outputs": [],
   "source": [
    "#read train.tsv using pandas\n",
    "train_data_file = pd.read_csv(\"train.tsv\", sep = \"\\t\")\n",
    "test_data_file = pd.read_csv(\"test.tsv\", sep = \"\\t\")"
   ]
  },
  {
   "cell_type": "code",
   "execution_count": 4,
   "metadata": {
    "collapsed": false
   },
   "outputs": [],
   "source": [
    "expected_tags = pd.DataFrame(['part-time-job',\n",
    "                             'full-time-job',\n",
    "                             'hourly-wage',\n",
    "                             'salary',\n",
    "                             'associate-needed',\n",
    "                             'bs-degree-needed',\n",
    "                             'ms-or-phd-needed',\n",
    "                             'licence-needed',\n",
    "                             '1-year-experience-needed',\n",
    "                             '2-4-years-experience-needed',\n",
    "                             '5-plus-years-experience-needed',\n",
    "                             'supervising-job'])"
   ]
  },
  {
   "cell_type": "code",
   "execution_count": 5,
   "metadata": {
    "collapsed": false
   },
   "outputs": [
    {
     "data": {
      "text/html": [
       "<div>\n",
       "<table border=\"1\" class=\"dataframe\">\n",
       "  <thead>\n",
       "    <tr style=\"text-align: right;\">\n",
       "      <th></th>\n",
       "      <th>0</th>\n",
       "    </tr>\n",
       "  </thead>\n",
       "  <tbody>\n",
       "    <tr>\n",
       "      <th>0</th>\n",
       "      <td>part-time-job</td>\n",
       "    </tr>\n",
       "    <tr>\n",
       "      <th>1</th>\n",
       "      <td>full-time-job</td>\n",
       "    </tr>\n",
       "    <tr>\n",
       "      <th>2</th>\n",
       "      <td>hourly-wage</td>\n",
       "    </tr>\n",
       "    <tr>\n",
       "      <th>3</th>\n",
       "      <td>salary</td>\n",
       "    </tr>\n",
       "    <tr>\n",
       "      <th>4</th>\n",
       "      <td>associate-needed</td>\n",
       "    </tr>\n",
       "    <tr>\n",
       "      <th>5</th>\n",
       "      <td>bs-degree-needed</td>\n",
       "    </tr>\n",
       "    <tr>\n",
       "      <th>6</th>\n",
       "      <td>ms-or-phd-needed</td>\n",
       "    </tr>\n",
       "    <tr>\n",
       "      <th>7</th>\n",
       "      <td>licence-needed</td>\n",
       "    </tr>\n",
       "    <tr>\n",
       "      <th>8</th>\n",
       "      <td>1-year-experience-needed</td>\n",
       "    </tr>\n",
       "    <tr>\n",
       "      <th>9</th>\n",
       "      <td>2-4-years-experience-needed</td>\n",
       "    </tr>\n",
       "    <tr>\n",
       "      <th>10</th>\n",
       "      <td>5-plus-years-experience-needed</td>\n",
       "    </tr>\n",
       "    <tr>\n",
       "      <th>11</th>\n",
       "      <td>supervising-job</td>\n",
       "    </tr>\n",
       "  </tbody>\n",
       "</table>\n",
       "</div>"
      ],
      "text/plain": [
       "                                 0\n",
       "0                    part-time-job\n",
       "1                    full-time-job\n",
       "2                      hourly-wage\n",
       "3                           salary\n",
       "4                 associate-needed\n",
       "5                 bs-degree-needed\n",
       "6                 ms-or-phd-needed\n",
       "7                   licence-needed\n",
       "8         1-year-experience-needed\n",
       "9      2-4-years-experience-needed\n",
       "10  5-plus-years-experience-needed\n",
       "11                 supervising-job"
      ]
     },
     "execution_count": 5,
     "metadata": {},
     "output_type": "execute_result"
    }
   ],
   "source": [
    "expected_tags"
   ]
  },
  {
   "cell_type": "markdown",
   "metadata": {},
   "source": [
    "# Sample Output"
   ]
  },
  {
   "cell_type": "code",
   "execution_count": 6,
   "metadata": {
    "collapsed": false
   },
   "outputs": [
    {
     "data": {
      "text/html": [
       "<div>\n",
       "<table border=\"1\" class=\"dataframe\">\n",
       "  <thead>\n",
       "    <tr style=\"text-align: right;\">\n",
       "      <th></th>\n",
       "      <th>tags</th>\n",
       "      <th>description</th>\n",
       "    </tr>\n",
       "  </thead>\n",
       "  <tbody>\n",
       "    <tr>\n",
       "      <th>0</th>\n",
       "      <td>licence-needed supervising-job 5-plus-years-ex...</td>\n",
       "      <td>THE COMPANY    Employer is a midstream service...</td>\n",
       "    </tr>\n",
       "    <tr>\n",
       "      <th>1</th>\n",
       "      <td>2-4-years-experience-needed salary full-time-job</td>\n",
       "      <td>ICR Staffing is now accepting resumes for Indu...</td>\n",
       "    </tr>\n",
       "    <tr>\n",
       "      <th>2</th>\n",
       "      <td>part-time-job</td>\n",
       "      <td>This is a great position for the right person....</td>\n",
       "    </tr>\n",
       "    <tr>\n",
       "      <th>3</th>\n",
       "      <td>licence-needed</td>\n",
       "      <td>A large multi-specialty health center is expan...</td>\n",
       "    </tr>\n",
       "    <tr>\n",
       "      <th>4</th>\n",
       "      <td>5-plus-years-experience-needed full-time-job b...</td>\n",
       "      <td>JOB PURPOSE:    The Account Director is respon...</td>\n",
       "    </tr>\n",
       "    <tr>\n",
       "      <th>5</th>\n",
       "      <td>associate-needed 5-plus-years-experience-needed</td>\n",
       "      <td>At Cottage Health System, our facilities are s...</td>\n",
       "    </tr>\n",
       "    <tr>\n",
       "      <th>6</th>\n",
       "      <td>full-time-job ms-or-phd-needed 5-plus-years-ex...</td>\n",
       "      <td>*E Learning Instructional Designer with at lea...</td>\n",
       "    </tr>\n",
       "    <tr>\n",
       "      <th>7</th>\n",
       "      <td>bs-degree-needed 5-plus-years-experience-needed</td>\n",
       "      <td>Sales and Service Representative    SAF-Hollan...</td>\n",
       "    </tr>\n",
       "    <tr>\n",
       "      <th>8</th>\n",
       "      <td>bs-degree-needed 2-4-years-experience-needed</td>\n",
       "      <td>SAF-Holland, Inc. is currently seeking an Inte...</td>\n",
       "    </tr>\n",
       "    <tr>\n",
       "      <th>9</th>\n",
       "      <td>full-time-job hourly-wage</td>\n",
       "      <td>Immediate opening for full time staffing coord...</td>\n",
       "    </tr>\n",
       "    <tr>\n",
       "      <th>10</th>\n",
       "      <td>licence-needed</td>\n",
       "      <td>WE ARE CHANGING LIVES! We invite you to join u...</td>\n",
       "    </tr>\n",
       "    <tr>\n",
       "      <th>11</th>\n",
       "      <td>2-4-years-experience-needed</td>\n",
       "      <td>1.  Associate level resource with 2-3 years In...</td>\n",
       "    </tr>\n",
       "    <tr>\n",
       "      <th>12</th>\n",
       "      <td>full-time-job</td>\n",
       "      <td>A Leader in the Field of Photonics  Founded in...</td>\n",
       "    </tr>\n",
       "    <tr>\n",
       "      <th>13</th>\n",
       "      <td>hourly-wage</td>\n",
       "      <td>A Leader in the Field of Photonics  Founded in...</td>\n",
       "    </tr>\n",
       "    <tr>\n",
       "      <th>14</th>\n",
       "      <td>bs-degree-needed 2-4-years-experience-needed</td>\n",
       "      <td>JOB SUMMARY: Facilitate the definition, idea g...</td>\n",
       "    </tr>\n",
       "    <tr>\n",
       "      <th>15</th>\n",
       "      <td>hourly-wage</td>\n",
       "      <td>Growing company in Celina is looking for an Of...</td>\n",
       "    </tr>\n",
       "    <tr>\n",
       "      <th>16</th>\n",
       "      <td>bs-degree-needed 2-4-years-experience-needed</td>\n",
       "      <td>*Position: Industrial Sales Engineer*  Delta T...</td>\n",
       "    </tr>\n",
       "    <tr>\n",
       "      <th>17</th>\n",
       "      <td>NaN</td>\n",
       "      <td>*Join the Club!* *Your Local Hermantown, MN Sa...</td>\n",
       "    </tr>\n",
       "    <tr>\n",
       "      <th>18</th>\n",
       "      <td>NaN</td>\n",
       "      <td>*Join the Club!*  Today, we are 625 clubs stro...</td>\n",
       "    </tr>\n",
       "    <tr>\n",
       "      <th>19</th>\n",
       "      <td>full-time-job salary</td>\n",
       "      <td>New York Police Department    *Take The NYPD P...</td>\n",
       "    </tr>\n",
       "    <tr>\n",
       "      <th>20</th>\n",
       "      <td>bs-degree-needed 2-4-years-experience-needed</td>\n",
       "      <td>REQ#DT0536 Front-End Web Development &amp; Graphic...</td>\n",
       "    </tr>\n",
       "    <tr>\n",
       "      <th>21</th>\n",
       "      <td>5-plus-years-experience-needed bs-degree-neede...</td>\n",
       "      <td>EXPERIENCE ONLY CLICK TO REPLY&gt;&gt;  GREAT OPPORT...</td>\n",
       "    </tr>\n",
       "    <tr>\n",
       "      <th>22</th>\n",
       "      <td>1-year-experience-needed</td>\n",
       "      <td>EXPERIENCE ONLY APPLY OR CLICK  • Status: Dire...</td>\n",
       "    </tr>\n",
       "    <tr>\n",
       "      <th>23</th>\n",
       "      <td>2-4-years-experience-needed</td>\n",
       "      <td>There are exciting career opportunities for br...</td>\n",
       "    </tr>\n",
       "    <tr>\n",
       "      <th>24</th>\n",
       "      <td>salary</td>\n",
       "      <td>CTM Media Group has built its success and repu...</td>\n",
       "    </tr>\n",
       "    <tr>\n",
       "      <th>25</th>\n",
       "      <td>2-4-years-experience-needed bs-degree-needed</td>\n",
       "      <td>Beeby Clark+Meyler has strong roots in interac...</td>\n",
       "    </tr>\n",
       "    <tr>\n",
       "      <th>26</th>\n",
       "      <td>2-4-years-experience-needed associate-needed</td>\n",
       "      <td>Inside Technical Sales    Do You Have The Tech...</td>\n",
       "    </tr>\n",
       "    <tr>\n",
       "      <th>27</th>\n",
       "      <td>licence-needed part-time-job salary</td>\n",
       "      <td>Qualifications:  Seeking a part time Rehabilit...</td>\n",
       "    </tr>\n",
       "    <tr>\n",
       "      <th>28</th>\n",
       "      <td>2-4-years-experience-needed</td>\n",
       "      <td>ARE YOU a licensed P&amp;C account manager in the ...</td>\n",
       "    </tr>\n",
       "    <tr>\n",
       "      <th>29</th>\n",
       "      <td>licence-needed full-time-job 2-4-years-experie...</td>\n",
       "      <td>Drivers -   Class A CDL  Black Horse Carriers ...</td>\n",
       "    </tr>\n",
       "    <tr>\n",
       "      <th>...</th>\n",
       "      <td>...</td>\n",
       "      <td>...</td>\n",
       "    </tr>\n",
       "    <tr>\n",
       "      <th>4345</th>\n",
       "      <td>salary supervising-job</td>\n",
       "      <td>ADVANCE YOUR CAREER WITH BURGER KING - QUICK S...</td>\n",
       "    </tr>\n",
       "    <tr>\n",
       "      <th>4346</th>\n",
       "      <td>full-time-job</td>\n",
       "      <td>Kids’ Gym Full Time Instructor:    Do you like...</td>\n",
       "    </tr>\n",
       "    <tr>\n",
       "      <th>4347</th>\n",
       "      <td>hourly-wage 2-4-years-experience-needed full-t...</td>\n",
       "      <td>MAACO Collision Repair in Greenville, SC is lo...</td>\n",
       "    </tr>\n",
       "    <tr>\n",
       "      <th>4348</th>\n",
       "      <td>salary</td>\n",
       "      <td>CLASS A CDL DRIVERS: 48 CPM WOULD YOU RUN FOR ...</td>\n",
       "    </tr>\n",
       "    <tr>\n",
       "      <th>4349</th>\n",
       "      <td>bs-degree-needed 2-4-years-experience-needed</td>\n",
       "      <td>*DEPARTMENT:* Supply Chain Management  *REPORT...</td>\n",
       "    </tr>\n",
       "    <tr>\n",
       "      <th>4350</th>\n",
       "      <td>NaN</td>\n",
       "      <td>Spa Coordinator                               ...</td>\n",
       "    </tr>\n",
       "    <tr>\n",
       "      <th>4351</th>\n",
       "      <td>NaN</td>\n",
       "      <td>Orthodentrix is looking for an entrepreneurial...</td>\n",
       "    </tr>\n",
       "    <tr>\n",
       "      <th>4352</th>\n",
       "      <td>5-plus-years-experience-needed</td>\n",
       "      <td>Local community bank is seeking a qualified in...</td>\n",
       "    </tr>\n",
       "    <tr>\n",
       "      <th>4353</th>\n",
       "      <td>salary</td>\n",
       "      <td>OutSell: OutSell was founded in 1996 with the ...</td>\n",
       "    </tr>\n",
       "    <tr>\n",
       "      <th>4354</th>\n",
       "      <td>NaN</td>\n",
       "      <td>We are seeking an enthusiastic candidate to fi...</td>\n",
       "    </tr>\n",
       "    <tr>\n",
       "      <th>4355</th>\n",
       "      <td>bs-degree-needed</td>\n",
       "      <td>AAA East Central is looking for someone to del...</td>\n",
       "    </tr>\n",
       "    <tr>\n",
       "      <th>4356</th>\n",
       "      <td>NaN</td>\n",
       "      <td>Local Allstate agency is looking for a motivat...</td>\n",
       "    </tr>\n",
       "    <tr>\n",
       "      <th>4357</th>\n",
       "      <td>NaN</td>\n",
       "      <td>Gourmet to go Markets is looking for Attendant...</td>\n",
       "    </tr>\n",
       "    <tr>\n",
       "      <th>4358</th>\n",
       "      <td>hourly-wage</td>\n",
       "      <td>Come join the elite Shorrock team who has rece...</td>\n",
       "    </tr>\n",
       "    <tr>\n",
       "      <th>4359</th>\n",
       "      <td>hourly-wage part-time-job</td>\n",
       "      <td>We pride ourselves in our high quality pizza a...</td>\n",
       "    </tr>\n",
       "    <tr>\n",
       "      <th>4360</th>\n",
       "      <td>NaN</td>\n",
       "      <td>Community Care, Inc.  is currently seeking a P...</td>\n",
       "    </tr>\n",
       "    <tr>\n",
       "      <th>4361</th>\n",
       "      <td>NaN</td>\n",
       "      <td>We are looking for Real Sports Fans who would ...</td>\n",
       "    </tr>\n",
       "    <tr>\n",
       "      <th>4362</th>\n",
       "      <td>1-year-experience-needed</td>\n",
       "      <td>SiteJabber (www.example.com) is the leading co...</td>\n",
       "    </tr>\n",
       "    <tr>\n",
       "      <th>4363</th>\n",
       "      <td>5-plus-years-experience-needed bs-degree-needed</td>\n",
       "      <td>AOTMP is seeking an experienced, high energy, ...</td>\n",
       "    </tr>\n",
       "    <tr>\n",
       "      <th>4364</th>\n",
       "      <td>2-4-years-experience-needed</td>\n",
       "      <td>The Insurance Account Manager position is the ...</td>\n",
       "    </tr>\n",
       "    <tr>\n",
       "      <th>4365</th>\n",
       "      <td>1-year-experience-needed</td>\n",
       "      <td>Experience - 1-3 years in Food &amp; Hospitality I...</td>\n",
       "    </tr>\n",
       "    <tr>\n",
       "      <th>4366</th>\n",
       "      <td>licence-needed</td>\n",
       "      <td>Lead a group of elderly during the lunch hour ...</td>\n",
       "    </tr>\n",
       "    <tr>\n",
       "      <th>4367</th>\n",
       "      <td>5-plus-years-experience-needed salary supervis...</td>\n",
       "      <td>This is an amazing opportunity for an experien...</td>\n",
       "    </tr>\n",
       "    <tr>\n",
       "      <th>4368</th>\n",
       "      <td>5-plus-years-experience-needed associate-needed</td>\n",
       "      <td>The Receptionist/Office assistant will provide...</td>\n",
       "    </tr>\n",
       "    <tr>\n",
       "      <th>4369</th>\n",
       "      <td>NaN</td>\n",
       "      <td>This position is responsible for correcting, p...</td>\n",
       "    </tr>\n",
       "    <tr>\n",
       "      <th>4370</th>\n",
       "      <td>salary 1-year-experience-needed</td>\n",
       "      <td>m.pulse is currently seeking a Spa Receptionis...</td>\n",
       "    </tr>\n",
       "    <tr>\n",
       "      <th>4371</th>\n",
       "      <td>5-plus-years-experience-needed bs-degree-needed</td>\n",
       "      <td>Responsibilities:  Design, develop and deliver...</td>\n",
       "    </tr>\n",
       "    <tr>\n",
       "      <th>4372</th>\n",
       "      <td>licence-needed</td>\n",
       "      <td>ExamOne, a subsidiary of Quest Diagnostics, is...</td>\n",
       "    </tr>\n",
       "    <tr>\n",
       "      <th>4373</th>\n",
       "      <td>bs-degree-needed</td>\n",
       "      <td>Entry level position, no prior work experience...</td>\n",
       "    </tr>\n",
       "    <tr>\n",
       "      <th>4374</th>\n",
       "      <td>5-plus-years-experience-needed bs-degree-needed</td>\n",
       "      <td>Iron Sword Enterprises, LLC is seeking an expe...</td>\n",
       "    </tr>\n",
       "  </tbody>\n",
       "</table>\n",
       "<p>4375 rows × 2 columns</p>\n",
       "</div>"
      ],
      "text/plain": [
       "                                                   tags  \\\n",
       "0     licence-needed supervising-job 5-plus-years-ex...   \n",
       "1      2-4-years-experience-needed salary full-time-job   \n",
       "2                                         part-time-job   \n",
       "3                                        licence-needed   \n",
       "4     5-plus-years-experience-needed full-time-job b...   \n",
       "5       associate-needed 5-plus-years-experience-needed   \n",
       "6     full-time-job ms-or-phd-needed 5-plus-years-ex...   \n",
       "7       bs-degree-needed 5-plus-years-experience-needed   \n",
       "8          bs-degree-needed 2-4-years-experience-needed   \n",
       "9                             full-time-job hourly-wage   \n",
       "10                                       licence-needed   \n",
       "11                          2-4-years-experience-needed   \n",
       "12                                        full-time-job   \n",
       "13                                          hourly-wage   \n",
       "14         bs-degree-needed 2-4-years-experience-needed   \n",
       "15                                          hourly-wage   \n",
       "16         bs-degree-needed 2-4-years-experience-needed   \n",
       "17                                                  NaN   \n",
       "18                                                  NaN   \n",
       "19                                 full-time-job salary   \n",
       "20         bs-degree-needed 2-4-years-experience-needed   \n",
       "21    5-plus-years-experience-needed bs-degree-neede...   \n",
       "22                             1-year-experience-needed   \n",
       "23                          2-4-years-experience-needed   \n",
       "24                                               salary   \n",
       "25         2-4-years-experience-needed bs-degree-needed   \n",
       "26         2-4-years-experience-needed associate-needed   \n",
       "27                  licence-needed part-time-job salary   \n",
       "28                          2-4-years-experience-needed   \n",
       "29    licence-needed full-time-job 2-4-years-experie...   \n",
       "...                                                 ...   \n",
       "4345                             salary supervising-job   \n",
       "4346                                      full-time-job   \n",
       "4347  hourly-wage 2-4-years-experience-needed full-t...   \n",
       "4348                                             salary   \n",
       "4349       bs-degree-needed 2-4-years-experience-needed   \n",
       "4350                                                NaN   \n",
       "4351                                                NaN   \n",
       "4352                     5-plus-years-experience-needed   \n",
       "4353                                             salary   \n",
       "4354                                                NaN   \n",
       "4355                                   bs-degree-needed   \n",
       "4356                                                NaN   \n",
       "4357                                                NaN   \n",
       "4358                                        hourly-wage   \n",
       "4359                          hourly-wage part-time-job   \n",
       "4360                                                NaN   \n",
       "4361                                                NaN   \n",
       "4362                           1-year-experience-needed   \n",
       "4363    5-plus-years-experience-needed bs-degree-needed   \n",
       "4364                        2-4-years-experience-needed   \n",
       "4365                           1-year-experience-needed   \n",
       "4366                                     licence-needed   \n",
       "4367  5-plus-years-experience-needed salary supervis...   \n",
       "4368    5-plus-years-experience-needed associate-needed   \n",
       "4369                                                NaN   \n",
       "4370                    salary 1-year-experience-needed   \n",
       "4371    5-plus-years-experience-needed bs-degree-needed   \n",
       "4372                                     licence-needed   \n",
       "4373                                   bs-degree-needed   \n",
       "4374    5-plus-years-experience-needed bs-degree-needed   \n",
       "\n",
       "                                            description  \n",
       "0     THE COMPANY    Employer is a midstream service...  \n",
       "1     ICR Staffing is now accepting resumes for Indu...  \n",
       "2     This is a great position for the right person....  \n",
       "3     A large multi-specialty health center is expan...  \n",
       "4     JOB PURPOSE:    The Account Director is respon...  \n",
       "5     At Cottage Health System, our facilities are s...  \n",
       "6     *E Learning Instructional Designer with at lea...  \n",
       "7     Sales and Service Representative    SAF-Hollan...  \n",
       "8     SAF-Holland, Inc. is currently seeking an Inte...  \n",
       "9     Immediate opening for full time staffing coord...  \n",
       "10    WE ARE CHANGING LIVES! We invite you to join u...  \n",
       "11    1.  Associate level resource with 2-3 years In...  \n",
       "12    A Leader in the Field of Photonics  Founded in...  \n",
       "13    A Leader in the Field of Photonics  Founded in...  \n",
       "14    JOB SUMMARY: Facilitate the definition, idea g...  \n",
       "15    Growing company in Celina is looking for an Of...  \n",
       "16    *Position: Industrial Sales Engineer*  Delta T...  \n",
       "17    *Join the Club!* *Your Local Hermantown, MN Sa...  \n",
       "18    *Join the Club!*  Today, we are 625 clubs stro...  \n",
       "19    New York Police Department    *Take The NYPD P...  \n",
       "20    REQ#DT0536 Front-End Web Development & Graphic...  \n",
       "21    EXPERIENCE ONLY CLICK TO REPLY>>  GREAT OPPORT...  \n",
       "22    EXPERIENCE ONLY APPLY OR CLICK  • Status: Dire...  \n",
       "23    There are exciting career opportunities for br...  \n",
       "24    CTM Media Group has built its success and repu...  \n",
       "25    Beeby Clark+Meyler has strong roots in interac...  \n",
       "26    Inside Technical Sales    Do You Have The Tech...  \n",
       "27    Qualifications:  Seeking a part time Rehabilit...  \n",
       "28    ARE YOU a licensed P&C account manager in the ...  \n",
       "29    Drivers -   Class A CDL  Black Horse Carriers ...  \n",
       "...                                                 ...  \n",
       "4345  ADVANCE YOUR CAREER WITH BURGER KING - QUICK S...  \n",
       "4346  Kids’ Gym Full Time Instructor:    Do you like...  \n",
       "4347  MAACO Collision Repair in Greenville, SC is lo...  \n",
       "4348  CLASS A CDL DRIVERS: 48 CPM WOULD YOU RUN FOR ...  \n",
       "4349  *DEPARTMENT:* Supply Chain Management  *REPORT...  \n",
       "4350  Spa Coordinator                               ...  \n",
       "4351  Orthodentrix is looking for an entrepreneurial...  \n",
       "4352  Local community bank is seeking a qualified in...  \n",
       "4353  OutSell: OutSell was founded in 1996 with the ...  \n",
       "4354  We are seeking an enthusiastic candidate to fi...  \n",
       "4355  AAA East Central is looking for someone to del...  \n",
       "4356  Local Allstate agency is looking for a motivat...  \n",
       "4357  Gourmet to go Markets is looking for Attendant...  \n",
       "4358  Come join the elite Shorrock team who has rece...  \n",
       "4359  We pride ourselves in our high quality pizza a...  \n",
       "4360  Community Care, Inc.  is currently seeking a P...  \n",
       "4361  We are looking for Real Sports Fans who would ...  \n",
       "4362  SiteJabber (www.example.com) is the leading co...  \n",
       "4363  AOTMP is seeking an experienced, high energy, ...  \n",
       "4364  The Insurance Account Manager position is the ...  \n",
       "4365  Experience - 1-3 years in Food & Hospitality I...  \n",
       "4366  Lead a group of elderly during the lunch hour ...  \n",
       "4367  This is an amazing opportunity for an experien...  \n",
       "4368  The Receptionist/Office assistant will provide...  \n",
       "4369  This position is responsible for correcting, p...  \n",
       "4370  m.pulse is currently seeking a Spa Receptionis...  \n",
       "4371  Responsibilities:  Design, develop and deliver...  \n",
       "4372  ExamOne, a subsidiary of Quest Diagnostics, is...  \n",
       "4373  Entry level position, no prior work experience...  \n",
       "4374  Iron Sword Enterprises, LLC is seeking an expe...  \n",
       "\n",
       "[4375 rows x 2 columns]"
      ]
     },
     "execution_count": 6,
     "metadata": {},
     "output_type": "execute_result"
    }
   ],
   "source": [
    "train_data_file"
   ]
  },
  {
   "cell_type": "code",
   "execution_count": 7,
   "metadata": {
    "collapsed": false
   },
   "outputs": [
    {
     "data": {
      "text/html": [
       "<div>\n",
       "<table border=\"1\" class=\"dataframe\">\n",
       "  <thead>\n",
       "    <tr style=\"text-align: right;\">\n",
       "      <th></th>\n",
       "      <th>description</th>\n",
       "    </tr>\n",
       "  </thead>\n",
       "  <tbody>\n",
       "    <tr>\n",
       "      <th>0</th>\n",
       "      <td>Integrity Home Care has an opening on our Lead...</td>\n",
       "    </tr>\n",
       "    <tr>\n",
       "      <th>1</th>\n",
       "      <td>We're looking for a precision grinder with at ...</td>\n",
       "    </tr>\n",
       "    <tr>\n",
       "      <th>2</th>\n",
       "      <td>In Home Sales Designer Georgia Shutters– Augus...</td>\n",
       "    </tr>\n",
       "    <tr>\n",
       "      <th>3</th>\n",
       "      <td>Advanced Radiotherapy Consulting is seeking an...</td>\n",
       "    </tr>\n",
       "    <tr>\n",
       "      <th>4</th>\n",
       "      <td>Position Requirements:    ·      Professional ...</td>\n",
       "    </tr>\n",
       "    <tr>\n",
       "      <th>5</th>\n",
       "      <td>Hibachi Teppanyaki restaurant is hiring  serve...</td>\n",
       "    </tr>\n",
       "    <tr>\n",
       "      <th>6</th>\n",
       "      <td>CASTING Movie Extras, Actors, Models for TV, C...</td>\n",
       "    </tr>\n",
       "    <tr>\n",
       "      <th>7</th>\n",
       "      <td>Responsibilities:  • Provides training, suppor...</td>\n",
       "    </tr>\n",
       "    <tr>\n",
       "      <th>8</th>\n",
       "      <td>Informa plc is the leading international provi...</td>\n",
       "    </tr>\n",
       "    <tr>\n",
       "      <th>9</th>\n",
       "      <td>Our emphasis is on Excellence.  We have positi...</td>\n",
       "    </tr>\n",
       "    <tr>\n",
       "      <th>10</th>\n",
       "      <td>Discover what's right for you. At Burger King,...</td>\n",
       "    </tr>\n",
       "    <tr>\n",
       "      <th>11</th>\n",
       "      <td>POSITION DESCRIPTION  JOB TITLE: Antenna &amp; Lin...</td>\n",
       "    </tr>\n",
       "    <tr>\n",
       "      <th>12</th>\n",
       "      <td>Grab this career enhancing opportunity to util...</td>\n",
       "    </tr>\n",
       "    <tr>\n",
       "      <th>13</th>\n",
       "      <td>*The Market has changed, why haven’t you…?*  *...</td>\n",
       "    </tr>\n",
       "    <tr>\n",
       "      <th>14</th>\n",
       "      <td>Synergy Consulting Group is looking to place a...</td>\n",
       "    </tr>\n",
       "    <tr>\n",
       "      <th>15</th>\n",
       "      <td>Variety of  jobs available throughout Texas. P...</td>\n",
       "    </tr>\n",
       "    <tr>\n",
       "      <th>16</th>\n",
       "      <td>ACCOUNT COORDINATOR POSITION  Minimum 2 years ...</td>\n",
       "    </tr>\n",
       "    <tr>\n",
       "      <th>17</th>\n",
       "      <td>Specific Responsibilities - Essential    1. Fo...</td>\n",
       "    </tr>\n",
       "    <tr>\n",
       "      <th>18</th>\n",
       "      <td>Meadowbrook Veterinary Clinic Seeking a Full T...</td>\n",
       "    </tr>\n",
       "    <tr>\n",
       "      <th>19</th>\n",
       "      <td>Chipheads Computer Repair Shop is the premier ...</td>\n",
       "    </tr>\n",
       "    <tr>\n",
       "      <th>20</th>\n",
       "      <td>Under the direction of the Physician Superviso...</td>\n",
       "    </tr>\n",
       "    <tr>\n",
       "      <th>21</th>\n",
       "      <td>Resolute Claims Analyst - Must have PB Claims ...</td>\n",
       "    </tr>\n",
       "    <tr>\n",
       "      <th>22</th>\n",
       "      <td>Pioneer Industries International, Inc. a priva...</td>\n",
       "    </tr>\n",
       "    <tr>\n",
       "      <th>23</th>\n",
       "      <td>Currently Seeking a Health and Safety Professi...</td>\n",
       "    </tr>\n",
       "    <tr>\n",
       "      <th>24</th>\n",
       "      <td>Based in Kearney, Nebraska, Inter-Motion is a ...</td>\n",
       "    </tr>\n",
       "    <tr>\n",
       "      <th>25</th>\n",
       "      <td>UCHealth South (Memorial Hospital) May 14th Nu...</td>\n",
       "    </tr>\n",
       "    <tr>\n",
       "      <th>26</th>\n",
       "      <td>This position is located in Reno (Reno/Tahoe a...</td>\n",
       "    </tr>\n",
       "    <tr>\n",
       "      <th>27</th>\n",
       "      <td>STATUS: Exempt REPORTS TO: Senior Manager, Ret...</td>\n",
       "    </tr>\n",
       "    <tr>\n",
       "      <th>28</th>\n",
       "      <td>Infinite Services Inc. is seeking a full time/...</td>\n",
       "    </tr>\n",
       "    <tr>\n",
       "      <th>29</th>\n",
       "      <td>HR Manager / HR Director / Human Resource Mana...</td>\n",
       "    </tr>\n",
       "    <tr>\n",
       "      <th>...</th>\n",
       "      <td>...</td>\n",
       "    </tr>\n",
       "    <tr>\n",
       "      <th>2891</th>\n",
       "      <td>POSITION OVERVIEW    Conducts surveillance of ...</td>\n",
       "    </tr>\n",
       "    <tr>\n",
       "      <th>2892</th>\n",
       "      <td>Shooting art video covering special exhibition...</td>\n",
       "    </tr>\n",
       "    <tr>\n",
       "      <th>2893</th>\n",
       "      <td>Looking for a reliable Apprentice plumber to j...</td>\n",
       "    </tr>\n",
       "    <tr>\n",
       "      <th>2894</th>\n",
       "      <td>We're looking for *automotive technicians* for...</td>\n",
       "    </tr>\n",
       "    <tr>\n",
       "      <th>2895</th>\n",
       "      <td>Job Description: Primary receptionist back-up;...</td>\n",
       "    </tr>\n",
       "    <tr>\n",
       "      <th>2896</th>\n",
       "      <td>Spruce IT Asset Recovery is a fast growing cut...</td>\n",
       "    </tr>\n",
       "    <tr>\n",
       "      <th>2897</th>\n",
       "      <td>Reporting to the Chief Financial Officer, the ...</td>\n",
       "    </tr>\n",
       "    <tr>\n",
       "      <th>2898</th>\n",
       "      <td>*Company Overview:* FWMC is an intimate, commu...</td>\n",
       "    </tr>\n",
       "    <tr>\n",
       "      <th>2899</th>\n",
       "      <td>IMMEDIATE OPENINGS FOR COMMISSIONED OFFICERS -...</td>\n",
       "    </tr>\n",
       "    <tr>\n",
       "      <th>2900</th>\n",
       "      <td>Titan Factory Direct, a fast-growing, full-ser...</td>\n",
       "    </tr>\n",
       "    <tr>\n",
       "      <th>2901</th>\n",
       "      <td>The Partnership for Defense Innovation is acce...</td>\n",
       "    </tr>\n",
       "    <tr>\n",
       "      <th>2902</th>\n",
       "      <td>*Concrete Mixer Driver*  Chaney Enterprises is...</td>\n",
       "    </tr>\n",
       "    <tr>\n",
       "      <th>2903</th>\n",
       "      <td>Earn Extra Income by Selling Medical Marketing...</td>\n",
       "    </tr>\n",
       "    <tr>\n",
       "      <th>2904</th>\n",
       "      <td>Our client is a top technology company in Nort...</td>\n",
       "    </tr>\n",
       "    <tr>\n",
       "      <th>2905</th>\n",
       "      <td>POSITION SUMMARY:    Mortgage Loan Reviewer is...</td>\n",
       "    </tr>\n",
       "    <tr>\n",
       "      <th>2906</th>\n",
       "      <td>If you are a trainer who wants to focus on cha...</td>\n",
       "    </tr>\n",
       "    <tr>\n",
       "      <th>2907</th>\n",
       "      <td>Experienced Candidates Only Please  Straveda i...</td>\n",
       "    </tr>\n",
       "    <tr>\n",
       "      <th>2908</th>\n",
       "      <td>For quickest interview call Stacey at  XXX   G...</td>\n",
       "    </tr>\n",
       "    <tr>\n",
       "      <th>2909</th>\n",
       "      <td>*Summary*   Jolly Technologies ( www.example.c...</td>\n",
       "    </tr>\n",
       "    <tr>\n",
       "      <th>2910</th>\n",
       "      <td>Looking for a  motivated Exp Floral Designer  ...</td>\n",
       "    </tr>\n",
       "    <tr>\n",
       "      <th>2911</th>\n",
       "      <td>Restaurant in Kennedy Township.  Full or Part ...</td>\n",
       "    </tr>\n",
       "    <tr>\n",
       "      <th>2912</th>\n",
       "      <td>Company Overview: STEEL AMERICA is a successfu...</td>\n",
       "    </tr>\n",
       "    <tr>\n",
       "      <th>2913</th>\n",
       "      <td>Tower Loan, one of America’s largest privately...</td>\n",
       "    </tr>\n",
       "    <tr>\n",
       "      <th>2914</th>\n",
       "      <td>Now Hiring for Immediate Placement!  AccucareT...</td>\n",
       "    </tr>\n",
       "    <tr>\n",
       "      <th>2915</th>\n",
       "      <td>LaGrange College is seeking an experienced, hi...</td>\n",
       "    </tr>\n",
       "    <tr>\n",
       "      <th>2916</th>\n",
       "      <td>Within the next few months, Regence will begin...</td>\n",
       "    </tr>\n",
       "    <tr>\n",
       "      <th>2917</th>\n",
       "      <td>Japanese restaurant located in Palm Harbor is ...</td>\n",
       "    </tr>\n",
       "    <tr>\n",
       "      <th>2918</th>\n",
       "      <td>We are growing!!! Wanted 1-2 LVN's vietnamese ...</td>\n",
       "    </tr>\n",
       "    <tr>\n",
       "      <th>2919</th>\n",
       "      <td>This is an Independent Contractor position res...</td>\n",
       "    </tr>\n",
       "    <tr>\n",
       "      <th>2920</th>\n",
       "      <td>Sherwin-Williams of Moonachie, NJ is hiring Pa...</td>\n",
       "    </tr>\n",
       "  </tbody>\n",
       "</table>\n",
       "<p>2921 rows × 1 columns</p>\n",
       "</div>"
      ],
      "text/plain": [
       "                                            description\n",
       "0     Integrity Home Care has an opening on our Lead...\n",
       "1     We're looking for a precision grinder with at ...\n",
       "2     In Home Sales Designer Georgia Shutters– Augus...\n",
       "3     Advanced Radiotherapy Consulting is seeking an...\n",
       "4     Position Requirements:    ·      Professional ...\n",
       "5     Hibachi Teppanyaki restaurant is hiring  serve...\n",
       "6     CASTING Movie Extras, Actors, Models for TV, C...\n",
       "7     Responsibilities:  • Provides training, suppor...\n",
       "8     Informa plc is the leading international provi...\n",
       "9     Our emphasis is on Excellence.  We have positi...\n",
       "10    Discover what's right for you. At Burger King,...\n",
       "11    POSITION DESCRIPTION  JOB TITLE: Antenna & Lin...\n",
       "12    Grab this career enhancing opportunity to util...\n",
       "13    *The Market has changed, why haven’t you…?*  *...\n",
       "14    Synergy Consulting Group is looking to place a...\n",
       "15    Variety of  jobs available throughout Texas. P...\n",
       "16    ACCOUNT COORDINATOR POSITION  Minimum 2 years ...\n",
       "17    Specific Responsibilities - Essential    1. Fo...\n",
       "18    Meadowbrook Veterinary Clinic Seeking a Full T...\n",
       "19    Chipheads Computer Repair Shop is the premier ...\n",
       "20    Under the direction of the Physician Superviso...\n",
       "21    Resolute Claims Analyst - Must have PB Claims ...\n",
       "22    Pioneer Industries International, Inc. a priva...\n",
       "23    Currently Seeking a Health and Safety Professi...\n",
       "24    Based in Kearney, Nebraska, Inter-Motion is a ...\n",
       "25    UCHealth South (Memorial Hospital) May 14th Nu...\n",
       "26    This position is located in Reno (Reno/Tahoe a...\n",
       "27    STATUS: Exempt REPORTS TO: Senior Manager, Ret...\n",
       "28    Infinite Services Inc. is seeking a full time/...\n",
       "29    HR Manager / HR Director / Human Resource Mana...\n",
       "...                                                 ...\n",
       "2891  POSITION OVERVIEW    Conducts surveillance of ...\n",
       "2892  Shooting art video covering special exhibition...\n",
       "2893  Looking for a reliable Apprentice plumber to j...\n",
       "2894  We're looking for *automotive technicians* for...\n",
       "2895  Job Description: Primary receptionist back-up;...\n",
       "2896  Spruce IT Asset Recovery is a fast growing cut...\n",
       "2897  Reporting to the Chief Financial Officer, the ...\n",
       "2898  *Company Overview:* FWMC is an intimate, commu...\n",
       "2899  IMMEDIATE OPENINGS FOR COMMISSIONED OFFICERS -...\n",
       "2900  Titan Factory Direct, a fast-growing, full-ser...\n",
       "2901  The Partnership for Defense Innovation is acce...\n",
       "2902  *Concrete Mixer Driver*  Chaney Enterprises is...\n",
       "2903  Earn Extra Income by Selling Medical Marketing...\n",
       "2904  Our client is a top technology company in Nort...\n",
       "2905  POSITION SUMMARY:    Mortgage Loan Reviewer is...\n",
       "2906  If you are a trainer who wants to focus on cha...\n",
       "2907  Experienced Candidates Only Please  Straveda i...\n",
       "2908  For quickest interview call Stacey at  XXX   G...\n",
       "2909  *Summary*   Jolly Technologies ( www.example.c...\n",
       "2910  Looking for a  motivated Exp Floral Designer  ...\n",
       "2911  Restaurant in Kennedy Township.  Full or Part ...\n",
       "2912  Company Overview: STEEL AMERICA is a successfu...\n",
       "2913  Tower Loan, one of America’s largest privately...\n",
       "2914  Now Hiring for Immediate Placement!  AccucareT...\n",
       "2915  LaGrange College is seeking an experienced, hi...\n",
       "2916  Within the next few months, Regence will begin...\n",
       "2917  Japanese restaurant located in Palm Harbor is ...\n",
       "2918  We are growing!!! Wanted 1-2 LVN's vietnamese ...\n",
       "2919  This is an Independent Contractor position res...\n",
       "2920  Sherwin-Williams of Moonachie, NJ is hiring Pa...\n",
       "\n",
       "[2921 rows x 1 columns]"
      ]
     },
     "execution_count": 7,
     "metadata": {},
     "output_type": "execute_result"
    }
   ],
   "source": [
    "test_data_file"
   ]
  },
  {
   "cell_type": "markdown",
   "metadata": {},
   "source": [
    "# To remove rows with NaN values in column \"tags\""
   ]
  },
  {
   "cell_type": "code",
   "execution_count": 8,
   "metadata": {
    "collapsed": false
   },
   "outputs": [],
   "source": [
    "train_data_file = train_data_file[train_data_file['tags'].isnull() == False]"
   ]
  },
  {
   "cell_type": "markdown",
   "metadata": {},
   "source": [
    "# To calculate number of rows and columns"
   ]
  },
  {
   "cell_type": "code",
   "execution_count": 9,
   "metadata": {
    "collapsed": true
   },
   "outputs": [],
   "source": [
    "train_rows = len(train_data_file.axes[0])\n",
    "train_cols = len(train_data_file.axes[1])\n",
    "\n",
    "test_rows = len(test_data_file.axes[0])"
   ]
  },
  {
   "cell_type": "code",
   "execution_count": 10,
   "metadata": {
    "collapsed": false
   },
   "outputs": [
    {
     "data": {
      "text/plain": [
       "3504"
      ]
     },
     "execution_count": 10,
     "metadata": {},
     "output_type": "execute_result"
    }
   ],
   "source": [
    "train_rows"
   ]
  },
  {
   "cell_type": "code",
   "execution_count": 11,
   "metadata": {
    "collapsed": false
   },
   "outputs": [
    {
     "data": {
      "text/plain": [
       "2"
      ]
     },
     "execution_count": 11,
     "metadata": {},
     "output_type": "execute_result"
    }
   ],
   "source": [
    "train_cols"
   ]
  },
  {
   "cell_type": "markdown",
   "metadata": {},
   "source": [
    "# To update the index numbers of the rows"
   ]
  },
  {
   "cell_type": "code",
   "execution_count": 12,
   "metadata": {
    "collapsed": true
   },
   "outputs": [],
   "source": [
    "train_data_file.index = range(0, train_rows)"
   ]
  },
  {
   "cell_type": "markdown",
   "metadata": {},
   "source": [
    "# To decode column \"description\""
   ]
  },
  {
   "cell_type": "code",
   "execution_count": 13,
   "metadata": {
    "collapsed": false
   },
   "outputs": [
    {
     "name": "stderr",
     "output_type": "stream",
     "text": [
      "/home/ankit/anaconda2/lib/python2.7/site-packages/ipykernel/__main__.py:1: SettingWithCopyWarning: \n",
      "A value is trying to be set on a copy of a slice from a DataFrame.\n",
      "Try using .loc[row_indexer,col_indexer] = value instead\n",
      "\n",
      "See the caveats in the documentation: http://pandas.pydata.org/pandas-docs/stable/indexing.html#indexing-view-versus-copy\n",
      "  if __name__ == '__main__':\n"
     ]
    }
   ],
   "source": [
    "train_data_file['description'] = train_data_file['description'].map(lambda x: x.decode(\"utf8\").encode(\"ascii\",\"ignore\"))\n",
    "\n",
    "test_data_file['description'] = test_data_file['description'].map(lambda x: x.decode(\"utf8\").encode(\"ascii\",\"ignore\"))"
   ]
  },
  {
   "cell_type": "markdown",
   "metadata": {},
   "source": [
    "# To update column 'description' based on word boundary"
   ]
  },
  {
   "cell_type": "code",
   "execution_count": 14,
   "metadata": {
    "collapsed": false
   },
   "outputs": [
    {
     "name": "stderr",
     "output_type": "stream",
     "text": [
      "/home/ankit/anaconda2/lib/python2.7/site-packages/ipykernel/__main__.py:1: SettingWithCopyWarning: \n",
      "A value is trying to be set on a copy of a slice from a DataFrame.\n",
      "Try using .loc[row_indexer,col_indexer] = value instead\n",
      "\n",
      "See the caveats in the documentation: http://pandas.pydata.org/pandas-docs/stable/indexing.html#indexing-view-versus-copy\n",
      "  if __name__ == '__main__':\n"
     ]
    }
   ],
   "source": [
    "train_data_file['description'] = train_data_file['description'].map(lambda x: re.sub(\"\\W+\", ' ', x))"
   ]
  },
  {
   "cell_type": "code",
   "execution_count": 15,
   "metadata": {
    "collapsed": true
   },
   "outputs": [],
   "source": [
    "test_data_file['description'] = test_data_file['description'].map(lambda x: re.sub(\"\\W+\", ' ', x))"
   ]
  },
  {
   "cell_type": "markdown",
   "metadata": {},
   "source": [
    "# To remove stop words from the column 'description'"
   ]
  },
  {
   "cell_type": "code",
   "execution_count": 16,
   "metadata": {
    "collapsed": false
   },
   "outputs": [
    {
     "name": "stderr",
     "output_type": "stream",
     "text": [
      "/home/ankit/anaconda2/lib/python2.7/site-packages/ipykernel/__main__.py:1: SettingWithCopyWarning: \n",
      "A value is trying to be set on a copy of a slice from a DataFrame.\n",
      "Try using .loc[row_indexer,col_indexer] = value instead\n",
      "\n",
      "See the caveats in the documentation: http://pandas.pydata.org/pandas-docs/stable/indexing.html#indexing-view-versus-copy\n",
      "  if __name__ == '__main__':\n"
     ]
    }
   ],
   "source": [
    "train_data_file['description'] = train_data_file['description'].map(lambda x: ' '.join([word for word in x.split() if word not in (stopwords.words('english'))]))"
   ]
  },
  {
   "cell_type": "code",
   "execution_count": 17,
   "metadata": {
    "collapsed": true
   },
   "outputs": [],
   "source": [
    "test_data_file['description'] = test_data_file['description'].map(lambda x: ' '.join([word for word in x.split() if word not in (stopwords.words('english'))]))"
   ]
  },
  {
   "cell_type": "markdown",
   "metadata": {},
   "source": [
    "# To convert the column 'description' to lower case"
   ]
  },
  {
   "cell_type": "code",
   "execution_count": 18,
   "metadata": {
    "collapsed": false
   },
   "outputs": [
    {
     "name": "stderr",
     "output_type": "stream",
     "text": [
      "/home/ankit/anaconda2/lib/python2.7/site-packages/ipykernel/__main__.py:1: SettingWithCopyWarning: \n",
      "A value is trying to be set on a copy of a slice from a DataFrame.\n",
      "Try using .loc[row_indexer,col_indexer] = value instead\n",
      "\n",
      "See the caveats in the documentation: http://pandas.pydata.org/pandas-docs/stable/indexing.html#indexing-view-versus-copy\n",
      "  if __name__ == '__main__':\n"
     ]
    }
   ],
   "source": [
    "train_data_file['description'] = train_data_file['description'].map(lambda x: x.lower())"
   ]
  },
  {
   "cell_type": "code",
   "execution_count": 19,
   "metadata": {
    "collapsed": true
   },
   "outputs": [],
   "source": [
    "test_data_file['description'] = test_data_file['description'].map(lambda x: x.lower())"
   ]
  },
  {
   "cell_type": "markdown",
   "metadata": {},
   "source": [
    "# To create mapping of tags to description"
   ]
  },
  {
   "cell_type": "code",
   "execution_count": 20,
   "metadata": {
    "collapsed": true
   },
   "outputs": [],
   "source": [
    "def create_mapping(tag_key, train):\n",
    "    train_mapping = []\n",
    "    \n",
    "    for index, row in train.iterrows():\n",
    "        if tag_key in row.tags:\n",
    "            train_mapping.append(1)\n",
    "        else:\n",
    "            train_mapping.append(0)\n",
    "            \n",
    "    return train_mapping\n"
   ]
  },
  {
   "cell_type": "markdown",
   "metadata": {},
   "source": [
    "# To create stem tokenizer"
   ]
  },
  {
   "cell_type": "code",
   "execution_count": 21,
   "metadata": {
    "collapsed": false
   },
   "outputs": [],
   "source": [
    "class ss_tokenizer(object):\n",
    "    def __init__(self):\n",
    "        self.wns = SnowballStemmer('english')\n",
    "    def __call__(self, value):\n",
    "        return [self.wns.stem(x) for x in word_tokenize(value)]"
   ]
  },
  {
   "cell_type": "markdown",
   "metadata": {
    "collapsed": true
   },
   "source": [
    "# Naive Bayes Approach"
   ]
  },
  {
   "cell_type": "code",
   "execution_count": 22,
   "metadata": {
    "collapsed": false
   },
   "outputs": [],
   "source": [
    "def nb_classifier(tag_key, train_text, tag_train_mapping, test_text):\n",
    "    \n",
    "    count_vect = CountVectorizer(tokenizer = ss_tokenizer(), ngram_range = (1,4))\n",
    "    X_train_counts = count_vect.fit_transform(train_text)\n",
    "\n",
    "    tfidf_transformer = TfidfTransformer()\n",
    "    X_train_tfidf = tfidf_transformer.fit_transform(X_train_counts)\n",
    "    \n",
    "    clf = MultinomialNB(alpha = 0.001).fit(X_train_tfidf, tag_train_mapping)\n",
    "    \n",
    "    X_new_counts = count_vect.transform(test_text)\n",
    "    X_new_tfidf = tfidf_transformer.transform(X_new_counts)\n",
    "    \n",
    "    predicted = clf.predict(X_new_tfidf)\n",
    "    \n",
    "    print sum(predicted), tag_key\n",
    "    \n",
    "    return predicted\n",
    "        "
   ]
  },
  {
   "cell_type": "markdown",
   "metadata": {},
   "source": [
    "# XGBoost Approach"
   ]
  },
  {
   "cell_type": "code",
   "execution_count": null,
   "metadata": {
    "collapsed": true
   },
   "outputs": [],
   "source": [
    "def xgb_classifier(tag_key, train_text, tag_train_mapping, test_text):\n",
    "    \n",
    "    count_vect = CountVectorizer(tokenizer = ss_tokenizer(), ngram_range = (1,4))\n",
    "    X_train_counts = count_vect.fit_transform(train_text)\n",
    "\n",
    "    tfidf_transformer = TfidfTransformer()\n",
    "    X_train_tfidf = tfidf_transformer.fit_transform(X_train_counts)\n",
    "    \n",
    "    clf = xgb.XGBClassifier()\n",
    "\n",
    "    param_grid = {\n",
    "        'n_estimators': [100, 150, 200],\n",
    "    }\n",
    "\n",
    "    model = GridSearchCV(estimator=clf, param_grid=param_grid, n_jobs=4, cv=3, verbose=30, scoring = 'f1_micro')\n",
    "\n",
    "    model.fit(X_train_tfidf, tag_train_mapping)    \n",
    "\n",
    "    X_new_counts = count_vect.transform(test_text)\n",
    "    X_new_tfidf = tfidf_transformer.transform(X_new_counts)\n",
    "    \n",
    "    predicted = model.predict(X_new_tfidf)\n",
    "    \n",
    "    print sum(predicted), tag_key\n",
    "        \n",
    "    return predicted"
   ]
  },
  {
   "cell_type": "markdown",
   "metadata": {},
   "source": [
    "# parent method"
   ]
  },
  {
   "cell_type": "code",
   "execution_count": 24,
   "metadata": {
    "collapsed": false
   },
   "outputs": [],
   "source": [
    "def solution1_1(classifier):\n",
    "    para_tags = [\" \"] * test_rows\n",
    "    for i in range(len(expected_tags)):\n",
    "        tag = expected_tags.iloc[i,0]\n",
    "        tag_train_mapping = create_mapping(tag, train_data_file)\n",
    "        output = classifier(tag, train_data_file['description'], tag_train_mapping, test_data_file['description'])\n",
    "        \n",
    "        for index, item in enumerate(output):\n",
    "            if item == 1:\n",
    "                if para_tags[index] == \" \":\n",
    "                    para_tags[index] = tag\n",
    "                else:\n",
    "                    para_tags[index] += \" \" + tag\n",
    "    \n",
    "    return para_tags"
   ]
  },
  {
   "cell_type": "code",
   "execution_count": 25,
   "metadata": {
    "collapsed": false
   },
   "outputs": [
    {
     "name": "stdout",
     "output_type": "stream",
     "text": [
      "63 part-time-job\n",
      "247 full-time-job\n",
      "136 hourly-wage\n",
      "128 salary\n",
      "31 associate-needed\n",
      "699 bs-degree-needed\n",
      "14 ms-or-phd-needed\n",
      "225 licence-needed\n",
      "50 1-year-experience-needed\n",
      "320 2-4-years-experience-needed\n",
      "275 5-plus-years-experience-needed\n",
      "212 supervising-job\n"
     ]
    }
   ],
   "source": [
    "run1 = solution1_1(nb_classifier)"
   ]
  },
  {
   "cell_type": "code",
   "execution_count": null,
   "metadata": {
    "collapsed": false
   },
   "outputs": [],
   "source": [
    "run1"
   ]
  },
  {
   "cell_type": "code",
   "execution_count": null,
   "metadata": {
    "collapsed": false
   },
   "outputs": [
    {
     "name": "stdout",
     "output_type": "stream",
     "text": [
      "203 part-time-job\n"
     ]
    }
   ],
   "source": [
    "run2 = solution1_1(xgb_classifier)"
   ]
  },
  {
   "cell_type": "code",
   "execution_count": null,
   "metadata": {
    "collapsed": true
   },
   "outputs": [],
   "source": [
    "run2"
   ]
  }
 ],
 "metadata": {
  "kernelspec": {
   "display_name": "Python 2",
   "language": "python",
   "name": "python2"
  },
  "language_info": {
   "codemirror_mode": {
    "name": "ipython",
    "version": 2
   },
   "file_extension": ".py",
   "mimetype": "text/x-python",
   "name": "python",
   "nbconvert_exporter": "python",
   "pygments_lexer": "ipython2",
   "version": "2.7.13"
  }
 },
 "nbformat": 4,
 "nbformat_minor": 0
}
